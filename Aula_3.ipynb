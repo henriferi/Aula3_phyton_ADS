{
 "cells": [
  {
   "cell_type": "code",
   "execution_count": 7,
   "metadata": {},
   "outputs": [
    {
     "name": "stdout",
     "output_type": "stream",
     "text": [
      "Seu numero escolhido foi: 225\n"
     ]
    }
   ],
   "source": [
    "numero = int(input(\"digite um numero\"))\n",
    "\n",
    "print(\"Seu numero escolhido foi:\", numero)"
   ]
  },
  {
   "cell_type": "code",
   "execution_count": 9,
   "metadata": {},
   "outputs": [
    {
     "name": "stdout",
     "output_type": "stream",
     "text": [
      "A soma é: 4\n"
     ]
    }
   ],
   "source": [
    "numero = int(input(\"Digite um numero:\"))\n",
    "\n",
    "numero2 = int(input(\"Digite outro\"))\n",
    "\n",
    "soma = numero + numero2\n",
    "\n",
    "print(\"A soma é:\", soma)"
   ]
  },
  {
   "cell_type": "code",
   "execution_count": 14,
   "metadata": {},
   "outputs": [
    {
     "name": "stdout",
     "output_type": "stream",
     "text": [
      "A média é : 5.3999999999999995\n"
     ]
    }
   ],
   "source": [
    "numero = float(input(\"Digite um numero:\"))\n",
    "\n",
    "numero2 = float(input(\"Digite outro\"))\n",
    "\n",
    "numero3 = float(input(\"Digite o terceiro número para saber a média entre os três\"))\n",
    "\n",
    "media = (numero + numero2 + numero3) / 3\n",
    "\n",
    "print(\"A média é :\", media)"
   ]
  },
  {
   "cell_type": "code",
   "execution_count": 19,
   "metadata": {},
   "outputs": [
    {
     "name": "stdout",
     "output_type": "stream",
     "text": [
      "O valor que você ganha nesse mês é: 26571.0\n"
     ]
    }
   ],
   "source": [
    "ganhaPorHora = float(input(\"Quanto você ganha por hora?\"))\n",
    "\n",
    "valorDaHora = float(input(\"Qual número de horas trabalhadas nesse mês?\"))\n",
    "\n",
    "valorGanhoNoMes =  ganhaPorHora * valorDaHora\n",
    "\n",
    "print(\"O valor que você ganha nesse mês é:\", valorGanhoNoMes)\n",
    "\n",
    "\n",
    "\n"
   ]
  },
  {
   "cell_type": "code",
   "execution_count": 26,
   "metadata": {},
   "outputs": [
    {
     "name": "stdout",
     "output_type": "stream",
     "text": [
      "A multa paga vai ser de:  40.0\n"
     ]
    }
   ],
   "source": [
    "#peso maximo\n",
    "excesso = 50\n",
    "\n",
    "#multa por excesso\n",
    "multaPorExcesso = 4\n",
    "\n",
    "\n",
    "pesoPescado = float(input(\"Quantos kg você pescou hoje?\"))\n",
    "\n",
    "multa = float((pesoPescado - excesso) * multaPorExcesso)\n",
    "\n",
    "if pesoPescado > excesso : print(\"A multa paga vai ser de: \", multa) \n",
    "\n",
    "else: print(\"Você não teve multa dessa vez.\")\n",
    "    \n",
    "\n",
    "\n"
   ]
  }
 ],
 "metadata": {
  "kernelspec": {
   "display_name": "Python 3",
   "language": "python",
   "name": "python3"
  },
  "language_info": {
   "codemirror_mode": {
    "name": "ipython",
    "version": 3
   },
   "file_extension": ".py",
   "mimetype": "text/x-python",
   "name": "python",
   "nbconvert_exporter": "python",
   "pygments_lexer": "ipython3",
   "version": "3.11.9"
  }
 },
 "nbformat": 4,
 "nbformat_minor": 2
}
